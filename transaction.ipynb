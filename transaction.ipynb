{
 "cells": [
  {
   "cell_type": "code",
   "execution_count": 1,
   "id": "d532d141",
   "metadata": {},
   "outputs": [],
   "source": [
    "import pandas as pd\n",
    "import numpy as np \n",
    "import matplotlib.pyplot  as plt\n",
    "import seaborn as sns"
   ]
  },
  {
   "cell_type": "code",
   "execution_count": 2,
   "id": "a5d2ea2f",
   "metadata": {},
   "outputs": [],
   "source": [
    "data = pd.read_csv(\"Documents/transactions.csv\")"
   ]
  },
  {
   "cell_type": "code",
   "execution_count": 3,
   "id": "7e2ab29d",
   "metadata": {},
   "outputs": [
    {
     "data": {
      "text/html": [
       "<div>\n",
       "<style scoped>\n",
       "    .dataframe tbody tr th:only-of-type {\n",
       "        vertical-align: middle;\n",
       "    }\n",
       "\n",
       "    .dataframe tbody tr th {\n",
       "        vertical-align: top;\n",
       "    }\n",
       "\n",
       "    .dataframe thead th {\n",
       "        text-align: right;\n",
       "    }\n",
       "</style>\n",
       "<table border=\"1\" class=\"dataframe\">\n",
       "  <thead>\n",
       "    <tr style=\"text-align: right;\">\n",
       "      <th></th>\n",
       "      <th>Transaction ID</th>\n",
       "      <th>Timestamp</th>\n",
       "      <th>Sender Name</th>\n",
       "      <th>Sender UPI ID</th>\n",
       "      <th>Receiver Name</th>\n",
       "      <th>Receiver UPI ID</th>\n",
       "      <th>Amount (INR)</th>\n",
       "      <th>Status</th>\n",
       "    </tr>\n",
       "  </thead>\n",
       "  <tbody>\n",
       "    <tr>\n",
       "      <th>0</th>\n",
       "      <td>4d3db980-46cd-4158-a812-dcb77055d0d2</td>\n",
       "      <td>2024-06-22 04:06:38</td>\n",
       "      <td>Tiya Mall</td>\n",
       "      <td>4161803452@okaxis</td>\n",
       "      <td>Mohanlal Golla</td>\n",
       "      <td>7776849307@okybl</td>\n",
       "      <td>3907.34</td>\n",
       "      <td>FAILED</td>\n",
       "    </tr>\n",
       "    <tr>\n",
       "      <th>1</th>\n",
       "      <td>099ee548-2fc1-4811-bf92-559c467ca792</td>\n",
       "      <td>2024-06-19 06:04:49</td>\n",
       "      <td>Mohanlal Bakshi</td>\n",
       "      <td>8908837379@okaxis</td>\n",
       "      <td>Mehul Sankaran</td>\n",
       "      <td>7683454560@okaxis</td>\n",
       "      <td>8404.55</td>\n",
       "      <td>SUCCESS</td>\n",
       "    </tr>\n",
       "    <tr>\n",
       "      <th>2</th>\n",
       "      <td>d4c05732-6b1b-4bab-90b9-efe09d252b99</td>\n",
       "      <td>2024-06-04 04:56:09</td>\n",
       "      <td>Kismat Bora</td>\n",
       "      <td>4633654150@okybl</td>\n",
       "      <td>Diya Goel</td>\n",
       "      <td>2598130823@okicici</td>\n",
       "      <td>941.88</td>\n",
       "      <td>SUCCESS</td>\n",
       "    </tr>\n",
       "    <tr>\n",
       "      <th>3</th>\n",
       "      <td>e8df92ee-8b04-4133-af5a-5f412180c8ab</td>\n",
       "      <td>2024-06-09 09:56:07</td>\n",
       "      <td>Ayesha Korpal</td>\n",
       "      <td>7018842771@okhdfcbank</td>\n",
       "      <td>Rhea Kothari</td>\n",
       "      <td>2246623650@okaxis</td>\n",
       "      <td>8926.00</td>\n",
       "      <td>SUCCESS</td>\n",
       "    </tr>\n",
       "    <tr>\n",
       "      <th>4</th>\n",
       "      <td>e7d675d3-04f1-419c-a841-7a04662560b7</td>\n",
       "      <td>2024-06-25 08:38:19</td>\n",
       "      <td>Jivin Batta</td>\n",
       "      <td>1977143985@okybl</td>\n",
       "      <td>Baiju Issac</td>\n",
       "      <td>5245672729@okybl</td>\n",
       "      <td>2800.55</td>\n",
       "      <td>SUCCESS</td>\n",
       "    </tr>\n",
       "  </tbody>\n",
       "</table>\n",
       "</div>"
      ],
      "text/plain": [
       "                         Transaction ID            Timestamp      Sender Name  \\\n",
       "0  4d3db980-46cd-4158-a812-dcb77055d0d2  2024-06-22 04:06:38        Tiya Mall   \n",
       "1  099ee548-2fc1-4811-bf92-559c467ca792  2024-06-19 06:04:49  Mohanlal Bakshi   \n",
       "2  d4c05732-6b1b-4bab-90b9-efe09d252b99  2024-06-04 04:56:09      Kismat Bora   \n",
       "3  e8df92ee-8b04-4133-af5a-5f412180c8ab  2024-06-09 09:56:07    Ayesha Korpal   \n",
       "4  e7d675d3-04f1-419c-a841-7a04662560b7  2024-06-25 08:38:19      Jivin Batta   \n",
       "\n",
       "           Sender UPI ID   Receiver Name     Receiver UPI ID  Amount (INR)  \\\n",
       "0      4161803452@okaxis  Mohanlal Golla    7776849307@okybl       3907.34   \n",
       "1      8908837379@okaxis  Mehul Sankaran   7683454560@okaxis       8404.55   \n",
       "2       4633654150@okybl       Diya Goel  2598130823@okicici        941.88   \n",
       "3  7018842771@okhdfcbank    Rhea Kothari   2246623650@okaxis       8926.00   \n",
       "4       1977143985@okybl     Baiju Issac    5245672729@okybl       2800.55   \n",
       "\n",
       "    Status  \n",
       "0   FAILED  \n",
       "1  SUCCESS  \n",
       "2  SUCCESS  \n",
       "3  SUCCESS  \n",
       "4  SUCCESS  "
      ]
     },
     "execution_count": 3,
     "metadata": {},
     "output_type": "execute_result"
    }
   ],
   "source": [
    "data.head()"
   ]
  },
  {
   "cell_type": "code",
   "execution_count": 4,
   "id": "692d2059",
   "metadata": {},
   "outputs": [],
   "source": [
    "data.drop(\"Transaction ID\",axis=1,inplace=True)"
   ]
  },
  {
   "cell_type": "code",
   "execution_count": 5,
   "id": "67d82ac2",
   "metadata": {},
   "outputs": [
    {
     "data": {
      "text/plain": [
       "(1000, 7)"
      ]
     },
     "execution_count": 5,
     "metadata": {},
     "output_type": "execute_result"
    }
   ],
   "source": [
    "data.shape"
   ]
  },
  {
   "cell_type": "code",
   "execution_count": 6,
   "id": "63c5daf9",
   "metadata": {},
   "outputs": [
    {
     "data": {
      "text/plain": [
       "Timestamp          1000\n",
       "Sender Name         997\n",
       "Sender UPI ID      1000\n",
       "Receiver Name       996\n",
       "Receiver UPI ID    1000\n",
       "Amount (INR)        999\n",
       "Status                2\n",
       "dtype: int64"
      ]
     },
     "execution_count": 6,
     "metadata": {},
     "output_type": "execute_result"
    }
   ],
   "source": [
    "data.nunique()"
   ]
  },
  {
   "cell_type": "code",
   "execution_count": 7,
   "id": "1e649e33",
   "metadata": {},
   "outputs": [
    {
     "name": "stdout",
     "output_type": "stream",
     "text": [
      "<class 'pandas.core.frame.DataFrame'>\n",
      "RangeIndex: 1000 entries, 0 to 999\n",
      "Data columns (total 7 columns):\n",
      " #   Column           Non-Null Count  Dtype  \n",
      "---  ------           --------------  -----  \n",
      " 0   Timestamp        1000 non-null   object \n",
      " 1   Sender Name      1000 non-null   object \n",
      " 2   Sender UPI ID    1000 non-null   object \n",
      " 3   Receiver Name    1000 non-null   object \n",
      " 4   Receiver UPI ID  1000 non-null   object \n",
      " 5   Amount (INR)     1000 non-null   float64\n",
      " 6   Status           1000 non-null   object \n",
      "dtypes: float64(1), object(6)\n",
      "memory usage: 54.8+ KB\n"
     ]
    }
   ],
   "source": [
    "data.info()"
   ]
  },
  {
   "cell_type": "code",
   "execution_count": 8,
   "id": "430b74c9",
   "metadata": {},
   "outputs": [
    {
     "data": {
      "text/plain": [
       "Timestamp          0\n",
       "Sender Name        0\n",
       "Sender UPI ID      0\n",
       "Receiver Name      0\n",
       "Receiver UPI ID    0\n",
       "Amount (INR)       0\n",
       "Status             0\n",
       "dtype: int64"
      ]
     },
     "execution_count": 8,
     "metadata": {},
     "output_type": "execute_result"
    }
   ],
   "source": [
    "data.isnull().sum()"
   ]
  },
  {
   "cell_type": "code",
   "execution_count": 9,
   "id": "478a642b",
   "metadata": {},
   "outputs": [
    {
     "data": {
      "text/plain": [
       "False"
      ]
     },
     "execution_count": 9,
     "metadata": {},
     "output_type": "execute_result"
    }
   ],
   "source": [
    "data[\"Sender Name\"].value_counts==2"
   ]
  },
  {
   "cell_type": "code",
   "execution_count": 10,
   "id": "7c06f63f",
   "metadata": {},
   "outputs": [],
   "source": [
    "data[\"Timestamp\"] = pd.to_datetime(data[\"Timestamp\"])"
   ]
  },
  {
   "cell_type": "code",
   "execution_count": 11,
   "id": "c787458e",
   "metadata": {},
   "outputs": [
    {
     "name": "stdout",
     "output_type": "stream",
     "text": [
      "<class 'pandas.core.frame.DataFrame'>\n",
      "RangeIndex: 1000 entries, 0 to 999\n",
      "Data columns (total 7 columns):\n",
      " #   Column           Non-Null Count  Dtype         \n",
      "---  ------           --------------  -----         \n",
      " 0   Timestamp        1000 non-null   datetime64[ns]\n",
      " 1   Sender Name      1000 non-null   object        \n",
      " 2   Sender UPI ID    1000 non-null   object        \n",
      " 3   Receiver Name    1000 non-null   object        \n",
      " 4   Receiver UPI ID  1000 non-null   object        \n",
      " 5   Amount (INR)     1000 non-null   float64       \n",
      " 6   Status           1000 non-null   object        \n",
      "dtypes: datetime64[ns](1), float64(1), object(5)\n",
      "memory usage: 54.8+ KB\n"
     ]
    }
   ],
   "source": [
    "data.info()"
   ]
  },
  {
   "cell_type": "code",
   "execution_count": 12,
   "id": "119cd158",
   "metadata": {},
   "outputs": [],
   "source": [
    "topsender  = data[\"Sender Name\"].value_counts().head(3)"
   ]
  },
  {
   "cell_type": "code",
   "execution_count": 13,
   "id": "fdca33b5",
   "metadata": {},
   "outputs": [
    {
     "data": {
      "text/plain": [
       "Prerak Lanka     2\n",
       "Aayush Bakshi    2\n",
       "Ivan Ramesh      2\n",
       "Name: Sender Name, dtype: int64"
      ]
     },
     "execution_count": 13,
     "metadata": {},
     "output_type": "execute_result"
    }
   ],
   "source": [
    "topsender"
   ]
  },
  {
   "cell_type": "code",
   "execution_count": 14,
   "id": "4c26fa51",
   "metadata": {},
   "outputs": [
    {
     "name": "stdout",
     "output_type": "stream",
     "text": [
      "Purab Gandhi      2\n",
      "Tarini Anand      2\n",
      "Ryan Varughese    2\n",
      "Samarth Gala      2\n",
      "Name: Receiver Name, dtype: int64\n"
     ]
    }
   ],
   "source": [
    "topreceiver =  data[\"Receiver Name\"].value_counts().head(4)\n",
    "print(topreceiver)"
   ]
  },
  {
   "cell_type": "code",
   "execution_count": 15,
   "id": "8799ab82",
   "metadata": {},
   "outputs": [
    {
     "data": {
      "text/html": [
       "<div>\n",
       "<style scoped>\n",
       "    .dataframe tbody tr th:only-of-type {\n",
       "        vertical-align: middle;\n",
       "    }\n",
       "\n",
       "    .dataframe tbody tr th {\n",
       "        vertical-align: top;\n",
       "    }\n",
       "\n",
       "    .dataframe thead th {\n",
       "        text-align: right;\n",
       "    }\n",
       "</style>\n",
       "<table border=\"1\" class=\"dataframe\">\n",
       "  <thead>\n",
       "    <tr style=\"text-align: right;\">\n",
       "      <th></th>\n",
       "      <th>Timestamp</th>\n",
       "      <th>Sender Name</th>\n",
       "      <th>Sender UPI ID</th>\n",
       "      <th>Receiver Name</th>\n",
       "      <th>Receiver UPI ID</th>\n",
       "      <th>Amount (INR)</th>\n",
       "      <th>Status</th>\n",
       "    </tr>\n",
       "  </thead>\n",
       "  <tbody>\n",
       "    <tr>\n",
       "      <th>241</th>\n",
       "      <td>2024-06-21 05:12:15</td>\n",
       "      <td>Prerak Lanka</td>\n",
       "      <td>1013933291@okhdfcbank</td>\n",
       "      <td>Jayan Bedi</td>\n",
       "      <td>5826134954@okybl</td>\n",
       "      <td>4245.79</td>\n",
       "      <td>SUCCESS</td>\n",
       "    </tr>\n",
       "    <tr>\n",
       "      <th>610</th>\n",
       "      <td>2024-07-02 17:22:46</td>\n",
       "      <td>Prerak Lanka</td>\n",
       "      <td>1943928738@okaxis</td>\n",
       "      <td>Alisha Dara</td>\n",
       "      <td>7065501652@okybl</td>\n",
       "      <td>1475.17</td>\n",
       "      <td>SUCCESS</td>\n",
       "    </tr>\n",
       "  </tbody>\n",
       "</table>\n",
       "</div>"
      ],
      "text/plain": [
       "              Timestamp   Sender Name          Sender UPI ID Receiver Name  \\\n",
       "241 2024-06-21 05:12:15  Prerak Lanka  1013933291@okhdfcbank    Jayan Bedi   \n",
       "610 2024-07-02 17:22:46  Prerak Lanka      1943928738@okaxis   Alisha Dara   \n",
       "\n",
       "      Receiver UPI ID  Amount (INR)   Status  \n",
       "241  5826134954@okybl       4245.79  SUCCESS  \n",
       "610  7065501652@okybl       1475.17  SUCCESS  "
      ]
     },
     "execution_count": 15,
     "metadata": {},
     "output_type": "execute_result"
    }
   ],
   "source": [
    "data[data[\"Sender Name\"]==\"Prerak Lanka\"]"
   ]
  },
  {
   "cell_type": "code",
   "execution_count": 16,
   "id": "724c011b",
   "metadata": {},
   "outputs": [
    {
     "data": {
      "text/html": [
       "<div>\n",
       "<style scoped>\n",
       "    .dataframe tbody tr th:only-of-type {\n",
       "        vertical-align: middle;\n",
       "    }\n",
       "\n",
       "    .dataframe tbody tr th {\n",
       "        vertical-align: top;\n",
       "    }\n",
       "\n",
       "    .dataframe thead th {\n",
       "        text-align: right;\n",
       "    }\n",
       "</style>\n",
       "<table border=\"1\" class=\"dataframe\">\n",
       "  <thead>\n",
       "    <tr style=\"text-align: right;\">\n",
       "      <th></th>\n",
       "      <th>Timestamp</th>\n",
       "      <th>Sender Name</th>\n",
       "      <th>Sender UPI ID</th>\n",
       "      <th>Receiver Name</th>\n",
       "      <th>Receiver UPI ID</th>\n",
       "      <th>Amount (INR)</th>\n",
       "      <th>Status</th>\n",
       "    </tr>\n",
       "  </thead>\n",
       "  <tbody>\n",
       "    <tr>\n",
       "      <th>324</th>\n",
       "      <td>2024-06-23 16:56:48</td>\n",
       "      <td>Ritvik Bassi</td>\n",
       "      <td>9932809090@okybl</td>\n",
       "      <td>Tarini Anand</td>\n",
       "      <td>3237592515@okicici</td>\n",
       "      <td>929.96</td>\n",
       "      <td>SUCCESS</td>\n",
       "    </tr>\n",
       "    <tr>\n",
       "      <th>935</th>\n",
       "      <td>2024-06-10 20:37:17</td>\n",
       "      <td>Rasha Lala</td>\n",
       "      <td>2820264046@okicici</td>\n",
       "      <td>Tarini Anand</td>\n",
       "      <td>4469822354@okicici</td>\n",
       "      <td>9636.95</td>\n",
       "      <td>FAILED</td>\n",
       "    </tr>\n",
       "  </tbody>\n",
       "</table>\n",
       "</div>"
      ],
      "text/plain": [
       "              Timestamp   Sender Name       Sender UPI ID Receiver Name  \\\n",
       "324 2024-06-23 16:56:48  Ritvik Bassi    9932809090@okybl  Tarini Anand   \n",
       "935 2024-06-10 20:37:17    Rasha Lala  2820264046@okicici  Tarini Anand   \n",
       "\n",
       "        Receiver UPI ID  Amount (INR)   Status  \n",
       "324  3237592515@okicici        929.96  SUCCESS  \n",
       "935  4469822354@okicici       9636.95   FAILED  "
      ]
     },
     "execution_count": 16,
     "metadata": {},
     "output_type": "execute_result"
    }
   ],
   "source": [
    "data[data[\"Receiver Name\"]==\"Tarini Anand\"]"
   ]
  },
  {
   "cell_type": "code",
   "execution_count": 17,
   "id": "38da31f5",
   "metadata": {},
   "outputs": [
    {
     "data": {
      "text/html": [
       "<div>\n",
       "<style scoped>\n",
       "    .dataframe tbody tr th:only-of-type {\n",
       "        vertical-align: middle;\n",
       "    }\n",
       "\n",
       "    .dataframe tbody tr th {\n",
       "        vertical-align: top;\n",
       "    }\n",
       "\n",
       "    .dataframe thead th {\n",
       "        text-align: right;\n",
       "    }\n",
       "</style>\n",
       "<table border=\"1\" class=\"dataframe\">\n",
       "  <thead>\n",
       "    <tr style=\"text-align: right;\">\n",
       "      <th></th>\n",
       "      <th>Timestamp</th>\n",
       "      <th>Sender Name</th>\n",
       "      <th>Sender UPI ID</th>\n",
       "      <th>Receiver Name</th>\n",
       "      <th>Receiver UPI ID</th>\n",
       "      <th>Amount (INR)</th>\n",
       "      <th>Status</th>\n",
       "    </tr>\n",
       "  </thead>\n",
       "  <tbody>\n",
       "    <tr>\n",
       "      <th>0</th>\n",
       "      <td>2024-06-22 04:06:38</td>\n",
       "      <td>Tiya Mall</td>\n",
       "      <td>4161803452@okaxis</td>\n",
       "      <td>Mohanlal Golla</td>\n",
       "      <td>7776849307@okybl</td>\n",
       "      <td>3907.34</td>\n",
       "      <td>FAILED</td>\n",
       "    </tr>\n",
       "    <tr>\n",
       "      <th>1</th>\n",
       "      <td>2024-06-19 06:04:49</td>\n",
       "      <td>Mohanlal Bakshi</td>\n",
       "      <td>8908837379@okaxis</td>\n",
       "      <td>Mehul Sankaran</td>\n",
       "      <td>7683454560@okaxis</td>\n",
       "      <td>8404.55</td>\n",
       "      <td>SUCCESS</td>\n",
       "    </tr>\n",
       "    <tr>\n",
       "      <th>2</th>\n",
       "      <td>2024-06-04 04:56:09</td>\n",
       "      <td>Kismat Bora</td>\n",
       "      <td>4633654150@okybl</td>\n",
       "      <td>Diya Goel</td>\n",
       "      <td>2598130823@okicici</td>\n",
       "      <td>941.88</td>\n",
       "      <td>SUCCESS</td>\n",
       "    </tr>\n",
       "    <tr>\n",
       "      <th>3</th>\n",
       "      <td>2024-06-09 09:56:07</td>\n",
       "      <td>Ayesha Korpal</td>\n",
       "      <td>7018842771@okhdfcbank</td>\n",
       "      <td>Rhea Kothari</td>\n",
       "      <td>2246623650@okaxis</td>\n",
       "      <td>8926.00</td>\n",
       "      <td>SUCCESS</td>\n",
       "    </tr>\n",
       "    <tr>\n",
       "      <th>4</th>\n",
       "      <td>2024-06-25 08:38:19</td>\n",
       "      <td>Jivin Batta</td>\n",
       "      <td>1977143985@okybl</td>\n",
       "      <td>Baiju Issac</td>\n",
       "      <td>5245672729@okybl</td>\n",
       "      <td>2800.55</td>\n",
       "      <td>SUCCESS</td>\n",
       "    </tr>\n",
       "  </tbody>\n",
       "</table>\n",
       "</div>"
      ],
      "text/plain": [
       "            Timestamp      Sender Name          Sender UPI ID   Receiver Name  \\\n",
       "0 2024-06-22 04:06:38        Tiya Mall      4161803452@okaxis  Mohanlal Golla   \n",
       "1 2024-06-19 06:04:49  Mohanlal Bakshi      8908837379@okaxis  Mehul Sankaran   \n",
       "2 2024-06-04 04:56:09      Kismat Bora       4633654150@okybl       Diya Goel   \n",
       "3 2024-06-09 09:56:07    Ayesha Korpal  7018842771@okhdfcbank    Rhea Kothari   \n",
       "4 2024-06-25 08:38:19      Jivin Batta       1977143985@okybl     Baiju Issac   \n",
       "\n",
       "      Receiver UPI ID  Amount (INR)   Status  \n",
       "0    7776849307@okybl       3907.34   FAILED  \n",
       "1   7683454560@okaxis       8404.55  SUCCESS  \n",
       "2  2598130823@okicici        941.88  SUCCESS  \n",
       "3   2246623650@okaxis       8926.00  SUCCESS  \n",
       "4    5245672729@okybl       2800.55  SUCCESS  "
      ]
     },
     "execution_count": 17,
     "metadata": {},
     "output_type": "execute_result"
    }
   ],
   "source": [
    "data.head(5)"
   ]
  },
  {
   "cell_type": "code",
   "execution_count": 18,
   "id": "69356869",
   "metadata": {},
   "outputs": [],
   "source": [
    "data[\"year\"]= data[\"Timestamp\"].dt.year"
   ]
  },
  {
   "cell_type": "code",
   "execution_count": 19,
   "id": "cc71aa73",
   "metadata": {},
   "outputs": [],
   "source": [
    "data[\"month\"]= data[\"Timestamp\"].dt.month"
   ]
  },
  {
   "cell_type": "code",
   "execution_count": 20,
   "id": "e18b2780",
   "metadata": {},
   "outputs": [],
   "source": [
    "data[\"day\"]= data[\"Timestamp\"].dt.day"
   ]
  },
  {
   "cell_type": "code",
   "execution_count": 21,
   "id": "782ddd08",
   "metadata": {},
   "outputs": [
    {
     "data": {
      "text/html": [
       "<div>\n",
       "<style scoped>\n",
       "    .dataframe tbody tr th:only-of-type {\n",
       "        vertical-align: middle;\n",
       "    }\n",
       "\n",
       "    .dataframe tbody tr th {\n",
       "        vertical-align: top;\n",
       "    }\n",
       "\n",
       "    .dataframe thead th {\n",
       "        text-align: right;\n",
       "    }\n",
       "</style>\n",
       "<table border=\"1\" class=\"dataframe\">\n",
       "  <thead>\n",
       "    <tr style=\"text-align: right;\">\n",
       "      <th></th>\n",
       "      <th>Timestamp</th>\n",
       "      <th>Sender Name</th>\n",
       "      <th>Sender UPI ID</th>\n",
       "      <th>Receiver Name</th>\n",
       "      <th>Receiver UPI ID</th>\n",
       "      <th>Amount (INR)</th>\n",
       "      <th>Status</th>\n",
       "      <th>year</th>\n",
       "      <th>month</th>\n",
       "      <th>day</th>\n",
       "    </tr>\n",
       "  </thead>\n",
       "  <tbody>\n",
       "    <tr>\n",
       "      <th>0</th>\n",
       "      <td>2024-06-22 04:06:38</td>\n",
       "      <td>Tiya Mall</td>\n",
       "      <td>4161803452@okaxis</td>\n",
       "      <td>Mohanlal Golla</td>\n",
       "      <td>7776849307@okybl</td>\n",
       "      <td>3907.34</td>\n",
       "      <td>FAILED</td>\n",
       "      <td>2024</td>\n",
       "      <td>6</td>\n",
       "      <td>22</td>\n",
       "    </tr>\n",
       "    <tr>\n",
       "      <th>1</th>\n",
       "      <td>2024-06-19 06:04:49</td>\n",
       "      <td>Mohanlal Bakshi</td>\n",
       "      <td>8908837379@okaxis</td>\n",
       "      <td>Mehul Sankaran</td>\n",
       "      <td>7683454560@okaxis</td>\n",
       "      <td>8404.55</td>\n",
       "      <td>SUCCESS</td>\n",
       "      <td>2024</td>\n",
       "      <td>6</td>\n",
       "      <td>19</td>\n",
       "    </tr>\n",
       "    <tr>\n",
       "      <th>2</th>\n",
       "      <td>2024-06-04 04:56:09</td>\n",
       "      <td>Kismat Bora</td>\n",
       "      <td>4633654150@okybl</td>\n",
       "      <td>Diya Goel</td>\n",
       "      <td>2598130823@okicici</td>\n",
       "      <td>941.88</td>\n",
       "      <td>SUCCESS</td>\n",
       "      <td>2024</td>\n",
       "      <td>6</td>\n",
       "      <td>4</td>\n",
       "    </tr>\n",
       "    <tr>\n",
       "      <th>3</th>\n",
       "      <td>2024-06-09 09:56:07</td>\n",
       "      <td>Ayesha Korpal</td>\n",
       "      <td>7018842771@okhdfcbank</td>\n",
       "      <td>Rhea Kothari</td>\n",
       "      <td>2246623650@okaxis</td>\n",
       "      <td>8926.00</td>\n",
       "      <td>SUCCESS</td>\n",
       "      <td>2024</td>\n",
       "      <td>6</td>\n",
       "      <td>9</td>\n",
       "    </tr>\n",
       "    <tr>\n",
       "      <th>4</th>\n",
       "      <td>2024-06-25 08:38:19</td>\n",
       "      <td>Jivin Batta</td>\n",
       "      <td>1977143985@okybl</td>\n",
       "      <td>Baiju Issac</td>\n",
       "      <td>5245672729@okybl</td>\n",
       "      <td>2800.55</td>\n",
       "      <td>SUCCESS</td>\n",
       "      <td>2024</td>\n",
       "      <td>6</td>\n",
       "      <td>25</td>\n",
       "    </tr>\n",
       "    <tr>\n",
       "      <th>...</th>\n",
       "      <td>...</td>\n",
       "      <td>...</td>\n",
       "      <td>...</td>\n",
       "      <td>...</td>\n",
       "      <td>...</td>\n",
       "      <td>...</td>\n",
       "      <td>...</td>\n",
       "      <td>...</td>\n",
       "      <td>...</td>\n",
       "      <td>...</td>\n",
       "    </tr>\n",
       "    <tr>\n",
       "      <th>995</th>\n",
       "      <td>2024-07-03 23:15:06</td>\n",
       "      <td>Anay Karan</td>\n",
       "      <td>7041132054@okhdfcbank</td>\n",
       "      <td>Dhanush Salvi</td>\n",
       "      <td>7858014473@okicici</td>\n",
       "      <td>9270.15</td>\n",
       "      <td>SUCCESS</td>\n",
       "      <td>2024</td>\n",
       "      <td>7</td>\n",
       "      <td>3</td>\n",
       "    </tr>\n",
       "    <tr>\n",
       "      <th>996</th>\n",
       "      <td>2024-06-15 15:42:57</td>\n",
       "      <td>Nirvaan Aurora</td>\n",
       "      <td>1200592114@okybl</td>\n",
       "      <td>Faiyaz Kara</td>\n",
       "      <td>2795494339@okhdfcbank</td>\n",
       "      <td>2278.32</td>\n",
       "      <td>FAILED</td>\n",
       "      <td>2024</td>\n",
       "      <td>6</td>\n",
       "      <td>15</td>\n",
       "    </tr>\n",
       "    <tr>\n",
       "      <th>997</th>\n",
       "      <td>2024-06-18 17:27:37</td>\n",
       "      <td>Bhamini Srinivasan</td>\n",
       "      <td>6922445535@okicici</td>\n",
       "      <td>Mishti Kala</td>\n",
       "      <td>5207563362@okybl</td>\n",
       "      <td>4857.89</td>\n",
       "      <td>FAILED</td>\n",
       "      <td>2024</td>\n",
       "      <td>6</td>\n",
       "      <td>18</td>\n",
       "    </tr>\n",
       "    <tr>\n",
       "      <th>998</th>\n",
       "      <td>2024-06-05 21:57:36</td>\n",
       "      <td>Krish Kohli</td>\n",
       "      <td>4638471232@okhdfcbank</td>\n",
       "      <td>Sahil Bail</td>\n",
       "      <td>9348631179@okaxis</td>\n",
       "      <td>9475.68</td>\n",
       "      <td>FAILED</td>\n",
       "      <td>2024</td>\n",
       "      <td>6</td>\n",
       "      <td>5</td>\n",
       "    </tr>\n",
       "    <tr>\n",
       "      <th>999</th>\n",
       "      <td>2024-06-21 15:52:40</td>\n",
       "      <td>Diya Trivedi</td>\n",
       "      <td>0385561234@oksbi</td>\n",
       "      <td>Dhanuk Mane</td>\n",
       "      <td>1884708567@okhdfcbank</td>\n",
       "      <td>1426.60</td>\n",
       "      <td>SUCCESS</td>\n",
       "      <td>2024</td>\n",
       "      <td>6</td>\n",
       "      <td>21</td>\n",
       "    </tr>\n",
       "  </tbody>\n",
       "</table>\n",
       "<p>1000 rows × 10 columns</p>\n",
       "</div>"
      ],
      "text/plain": [
       "              Timestamp         Sender Name          Sender UPI ID  \\\n",
       "0   2024-06-22 04:06:38           Tiya Mall      4161803452@okaxis   \n",
       "1   2024-06-19 06:04:49     Mohanlal Bakshi      8908837379@okaxis   \n",
       "2   2024-06-04 04:56:09         Kismat Bora       4633654150@okybl   \n",
       "3   2024-06-09 09:56:07       Ayesha Korpal  7018842771@okhdfcbank   \n",
       "4   2024-06-25 08:38:19         Jivin Batta       1977143985@okybl   \n",
       "..                  ...                 ...                    ...   \n",
       "995 2024-07-03 23:15:06          Anay Karan  7041132054@okhdfcbank   \n",
       "996 2024-06-15 15:42:57      Nirvaan Aurora       1200592114@okybl   \n",
       "997 2024-06-18 17:27:37  Bhamini Srinivasan     6922445535@okicici   \n",
       "998 2024-06-05 21:57:36         Krish Kohli  4638471232@okhdfcbank   \n",
       "999 2024-06-21 15:52:40        Diya Trivedi       0385561234@oksbi   \n",
       "\n",
       "      Receiver Name        Receiver UPI ID  Amount (INR)   Status  year  \\\n",
       "0    Mohanlal Golla       7776849307@okybl       3907.34   FAILED  2024   \n",
       "1    Mehul Sankaran      7683454560@okaxis       8404.55  SUCCESS  2024   \n",
       "2         Diya Goel     2598130823@okicici        941.88  SUCCESS  2024   \n",
       "3      Rhea Kothari      2246623650@okaxis       8926.00  SUCCESS  2024   \n",
       "4       Baiju Issac       5245672729@okybl       2800.55  SUCCESS  2024   \n",
       "..              ...                    ...           ...      ...   ...   \n",
       "995   Dhanush Salvi     7858014473@okicici       9270.15  SUCCESS  2024   \n",
       "996     Faiyaz Kara  2795494339@okhdfcbank       2278.32   FAILED  2024   \n",
       "997     Mishti Kala       5207563362@okybl       4857.89   FAILED  2024   \n",
       "998      Sahil Bail      9348631179@okaxis       9475.68   FAILED  2024   \n",
       "999     Dhanuk Mane  1884708567@okhdfcbank       1426.60  SUCCESS  2024   \n",
       "\n",
       "     month  day  \n",
       "0        6   22  \n",
       "1        6   19  \n",
       "2        6    4  \n",
       "3        6    9  \n",
       "4        6   25  \n",
       "..     ...  ...  \n",
       "995      7    3  \n",
       "996      6   15  \n",
       "997      6   18  \n",
       "998      6    5  \n",
       "999      6   21  \n",
       "\n",
       "[1000 rows x 10 columns]"
      ]
     },
     "execution_count": 21,
     "metadata": {},
     "output_type": "execute_result"
    }
   ],
   "source": [
    "data"
   ]
  },
  {
   "cell_type": "code",
   "execution_count": 22,
   "id": "f4f87d47",
   "metadata": {},
   "outputs": [],
   "source": [
    "data.drop(columns=[\"Timestamp\",\"Sender Name\",\"Sender UPI ID\",\"Receiver Name\",\"Receiver UPI ID\"],axis=1,inplace=True)"
   ]
  },
  {
   "cell_type": "code",
   "execution_count": 23,
   "id": "4cb310ce",
   "metadata": {},
   "outputs": [
    {
     "data": {
      "text/html": [
       "<div>\n",
       "<style scoped>\n",
       "    .dataframe tbody tr th:only-of-type {\n",
       "        vertical-align: middle;\n",
       "    }\n",
       "\n",
       "    .dataframe tbody tr th {\n",
       "        vertical-align: top;\n",
       "    }\n",
       "\n",
       "    .dataframe thead th {\n",
       "        text-align: right;\n",
       "    }\n",
       "</style>\n",
       "<table border=\"1\" class=\"dataframe\">\n",
       "  <thead>\n",
       "    <tr style=\"text-align: right;\">\n",
       "      <th></th>\n",
       "      <th>Amount (INR)</th>\n",
       "      <th>Status</th>\n",
       "      <th>year</th>\n",
       "      <th>month</th>\n",
       "      <th>day</th>\n",
       "    </tr>\n",
       "  </thead>\n",
       "  <tbody>\n",
       "    <tr>\n",
       "      <th>0</th>\n",
       "      <td>3907.34</td>\n",
       "      <td>FAILED</td>\n",
       "      <td>2024</td>\n",
       "      <td>6</td>\n",
       "      <td>22</td>\n",
       "    </tr>\n",
       "    <tr>\n",
       "      <th>1</th>\n",
       "      <td>8404.55</td>\n",
       "      <td>SUCCESS</td>\n",
       "      <td>2024</td>\n",
       "      <td>6</td>\n",
       "      <td>19</td>\n",
       "    </tr>\n",
       "    <tr>\n",
       "      <th>2</th>\n",
       "      <td>941.88</td>\n",
       "      <td>SUCCESS</td>\n",
       "      <td>2024</td>\n",
       "      <td>6</td>\n",
       "      <td>4</td>\n",
       "    </tr>\n",
       "    <tr>\n",
       "      <th>3</th>\n",
       "      <td>8926.00</td>\n",
       "      <td>SUCCESS</td>\n",
       "      <td>2024</td>\n",
       "      <td>6</td>\n",
       "      <td>9</td>\n",
       "    </tr>\n",
       "    <tr>\n",
       "      <th>4</th>\n",
       "      <td>2800.55</td>\n",
       "      <td>SUCCESS</td>\n",
       "      <td>2024</td>\n",
       "      <td>6</td>\n",
       "      <td>25</td>\n",
       "    </tr>\n",
       "  </tbody>\n",
       "</table>\n",
       "</div>"
      ],
      "text/plain": [
       "   Amount (INR)   Status  year  month  day\n",
       "0       3907.34   FAILED  2024      6   22\n",
       "1       8404.55  SUCCESS  2024      6   19\n",
       "2        941.88  SUCCESS  2024      6    4\n",
       "3       8926.00  SUCCESS  2024      6    9\n",
       "4       2800.55  SUCCESS  2024      6   25"
      ]
     },
     "execution_count": 23,
     "metadata": {},
     "output_type": "execute_result"
    }
   ],
   "source": [
    "data.head()"
   ]
  },
  {
   "cell_type": "code",
   "execution_count": 24,
   "id": "8226a5b8",
   "metadata": {},
   "outputs": [],
   "source": [
    "data[\"Status\"]=data[\"Status\"].apply(lambda x : 0 if x == \"FAILED\" else 1)"
   ]
  },
  {
   "cell_type": "code",
   "execution_count": 25,
   "id": "c0b5d205",
   "metadata": {},
   "outputs": [
    {
     "data": {
      "text/html": [
       "<div>\n",
       "<style scoped>\n",
       "    .dataframe tbody tr th:only-of-type {\n",
       "        vertical-align: middle;\n",
       "    }\n",
       "\n",
       "    .dataframe tbody tr th {\n",
       "        vertical-align: top;\n",
       "    }\n",
       "\n",
       "    .dataframe thead th {\n",
       "        text-align: right;\n",
       "    }\n",
       "</style>\n",
       "<table border=\"1\" class=\"dataframe\">\n",
       "  <thead>\n",
       "    <tr style=\"text-align: right;\">\n",
       "      <th></th>\n",
       "      <th>Amount (INR)</th>\n",
       "      <th>Status</th>\n",
       "      <th>year</th>\n",
       "      <th>month</th>\n",
       "      <th>day</th>\n",
       "    </tr>\n",
       "  </thead>\n",
       "  <tbody>\n",
       "    <tr>\n",
       "      <th>0</th>\n",
       "      <td>3907.34</td>\n",
       "      <td>0</td>\n",
       "      <td>2024</td>\n",
       "      <td>6</td>\n",
       "      <td>22</td>\n",
       "    </tr>\n",
       "    <tr>\n",
       "      <th>1</th>\n",
       "      <td>8404.55</td>\n",
       "      <td>1</td>\n",
       "      <td>2024</td>\n",
       "      <td>6</td>\n",
       "      <td>19</td>\n",
       "    </tr>\n",
       "    <tr>\n",
       "      <th>2</th>\n",
       "      <td>941.88</td>\n",
       "      <td>1</td>\n",
       "      <td>2024</td>\n",
       "      <td>6</td>\n",
       "      <td>4</td>\n",
       "    </tr>\n",
       "    <tr>\n",
       "      <th>3</th>\n",
       "      <td>8926.00</td>\n",
       "      <td>1</td>\n",
       "      <td>2024</td>\n",
       "      <td>6</td>\n",
       "      <td>9</td>\n",
       "    </tr>\n",
       "    <tr>\n",
       "      <th>4</th>\n",
       "      <td>2800.55</td>\n",
       "      <td>1</td>\n",
       "      <td>2024</td>\n",
       "      <td>6</td>\n",
       "      <td>25</td>\n",
       "    </tr>\n",
       "  </tbody>\n",
       "</table>\n",
       "</div>"
      ],
      "text/plain": [
       "   Amount (INR)  Status  year  month  day\n",
       "0       3907.34       0  2024      6   22\n",
       "1       8404.55       1  2024      6   19\n",
       "2        941.88       1  2024      6    4\n",
       "3       8926.00       1  2024      6    9\n",
       "4       2800.55       1  2024      6   25"
      ]
     },
     "execution_count": 25,
     "metadata": {},
     "output_type": "execute_result"
    }
   ],
   "source": [
    "data.head(5)"
   ]
  },
  {
   "cell_type": "code",
   "execution_count": 26,
   "id": "a6aeb5cf",
   "metadata": {},
   "outputs": [
    {
     "data": {
      "text/plain": [
       "6    892\n",
       "7    108\n",
       "Name: month, dtype: int64"
      ]
     },
     "execution_count": 26,
     "metadata": {},
     "output_type": "execute_result"
    }
   ],
   "source": [
    "data[\"month\"].value_counts()"
   ]
  },
  {
   "cell_type": "code",
   "execution_count": 27,
   "id": "51fcc342",
   "metadata": {},
   "outputs": [
    {
     "data": {
      "text/plain": [
       "<Axes: xlabel='month', ylabel='count'>"
      ]
     },
     "execution_count": 27,
     "metadata": {},
     "output_type": "execute_result"
    },
    {
     "data": {
      "image/png": "[encoded data removed]",
      "text/plain": [
       "<Figure size 640x480 with 1 Axes>"
      ]
     },
     "metadata": {},
     "output_type": "display_data"
    }
   ],
   "source": [
    "sns.countplot(data=data,x=\"month\")"
   ]
  },
  {
   "cell_type": "code",
   "execution_count": 28,
   "id": "a4b8792f",
   "metadata": {},
   "outputs": [],
   "source": [
    "gro_mon = data.groupby(\"month\",as_index = False)[\"Amount (INR)\"].sum()"
   ]
  },
  {
   "cell_type": "code",
   "execution_count": 29,
   "id": "512d04de",
   "metadata": {},
   "outputs": [
    {
     "data": {
      "text/html": [
       "<div>\n",
       "<style scoped>\n",
       "    .dataframe tbody tr th:only-of-type {\n",
       "        vertical-align: middle;\n",
       "    }\n",
       "\n",
       "    .dataframe tbody tr th {\n",
       "        vertical-align: top;\n",
       "    }\n",
       "\n",
       "    .dataframe thead th {\n",
       "        text-align: right;\n",
       "    }\n",
       "</style>\n",
       "<table border=\"1\" class=\"dataframe\">\n",
       "  <thead>\n",
       "    <tr style=\"text-align: right;\">\n",
       "      <th></th>\n",
       "      <th>month</th>\n",
       "      <th>Amount (INR)</th>\n",
       "    </tr>\n",
       "  </thead>\n",
       "  <tbody>\n",
       "    <tr>\n",
       "      <th>0</th>\n",
       "      <td>6</td>\n",
       "      <td>4466815.76</td>\n",
       "    </tr>\n",
       "    <tr>\n",
       "      <th>1</th>\n",
       "      <td>7</td>\n",
       "      <td>532207.17</td>\n",
       "    </tr>\n",
       "  </tbody>\n",
       "</table>\n",
       "</div>"
      ],
      "text/plain": [
       "   month  Amount (INR)\n",
       "0      6    4466815.76\n",
       "1      7     532207.17"
      ]
     },
     "execution_count": 29,
     "metadata": {},
     "output_type": "execute_result"
    }
   ],
   "source": [
    "gro_mon"
   ]
  },
  {
   "cell_type": "code",
   "execution_count": 30,
   "id": "46ac6a5f",
   "metadata": {},
   "outputs": [
    {
     "data": {
      "text/plain": [
       "<Axes: xlabel='month', ylabel='Amount (INR)'>"
      ]
     },
     "execution_count": 30,
     "metadata": {},
     "output_type": "execute_result"
    },
    {
     "data": {
      "image/png": "[encoded data removed]",
      "text/plain": [
       "<Figure size 640x480 with 1 Axes>"
      ]
     },
     "metadata": {},
     "output_type": "display_data"
    }
   ],
   "source": [
    "sns.barplot(data=gro_mon,x = \"month\",y =\"Amount (INR)\")"
   ]
  },
  {
   "cell_type": "code",
   "execution_count": 31,
   "id": "9bb7f97b",
   "metadata": {},
   "outputs": [
    {
     "data": {
      "text/html": [
       "<div>\n",
       "<style scoped>\n",
       "    .dataframe tbody tr th:only-of-type {\n",
       "        vertical-align: middle;\n",
       "    }\n",
       "\n",
       "    .dataframe tbody tr th {\n",
       "        vertical-align: top;\n",
       "    }\n",
       "\n",
       "    .dataframe thead th {\n",
       "        text-align: right;\n",
       "    }\n",
       "</style>\n",
       "<table border=\"1\" class=\"dataframe\">\n",
       "  <thead>\n",
       "    <tr style=\"text-align: right;\">\n",
       "      <th></th>\n",
       "      <th>Amount (INR)</th>\n",
       "      <th>Status</th>\n",
       "      <th>year</th>\n",
       "      <th>month</th>\n",
       "      <th>day</th>\n",
       "    </tr>\n",
       "  </thead>\n",
       "  <tbody>\n",
       "    <tr>\n",
       "      <th>0</th>\n",
       "      <td>3907.34</td>\n",
       "      <td>0</td>\n",
       "      <td>2024</td>\n",
       "      <td>6</td>\n",
       "      <td>22</td>\n",
       "    </tr>\n",
       "    <tr>\n",
       "      <th>1</th>\n",
       "      <td>8404.55</td>\n",
       "      <td>1</td>\n",
       "      <td>2024</td>\n",
       "      <td>6</td>\n",
       "      <td>19</td>\n",
       "    </tr>\n",
       "    <tr>\n",
       "      <th>2</th>\n",
       "      <td>941.88</td>\n",
       "      <td>1</td>\n",
       "      <td>2024</td>\n",
       "      <td>6</td>\n",
       "      <td>4</td>\n",
       "    </tr>\n",
       "    <tr>\n",
       "      <th>3</th>\n",
       "      <td>8926.00</td>\n",
       "      <td>1</td>\n",
       "      <td>2024</td>\n",
       "      <td>6</td>\n",
       "      <td>9</td>\n",
       "    </tr>\n",
       "    <tr>\n",
       "      <th>4</th>\n",
       "      <td>2800.55</td>\n",
       "      <td>1</td>\n",
       "      <td>2024</td>\n",
       "      <td>6</td>\n",
       "      <td>25</td>\n",
       "    </tr>\n",
       "  </tbody>\n",
       "</table>\n",
       "</div>"
      ],
      "text/plain": [
       "   Amount (INR)  Status  year  month  day\n",
       "0       3907.34       0  2024      6   22\n",
       "1       8404.55       1  2024      6   19\n",
       "2        941.88       1  2024      6    4\n",
       "3       8926.00       1  2024      6    9\n",
       "4       2800.55       1  2024      6   25"
      ]
     },
     "execution_count": 31,
     "metadata": {},
     "output_type": "execute_result"
    }
   ],
   "source": [
    "data.head()"
   ]
  },
  {
   "cell_type": "code",
   "execution_count": 32,
   "id": "098f4ab0",
   "metadata": {},
   "outputs": [],
   "source": [
    "x=data.drop(\"Status\",axis=1)\n",
    "y=data[\"Status\"]"
   ]
  },
  {
   "cell_type": "code",
   "execution_count": 33,
   "id": "ae930091",
   "metadata": {},
   "outputs": [
    {
     "name": "stdout",
     "output_type": "stream",
     "text": [
      "[7.98964416e-01 0.00000000e+00 7.93028356e-06 2.01027654e-01]\n"
     ]
    }
   ],
   "source": [
    "from sklearn.ensemble import GradientBoostingClassifier\n",
    "gbc = GradientBoostingClassifier()\n",
    "gbc.fit(x,y)\n",
    "print(gbc.feature_importances_)"
   ]
  },
  {
   "cell_type": "code",
   "execution_count": 35,
   "id": "fbacc234",
   "metadata": {},
   "outputs": [
    {
     "data": {
      "image/png": "[encoded data removed]",
      "text/plain": [
       "<Figure size 640x480 with 1 Axes>"
      ]
     },
     "metadata": {},
     "output_type": "display_data"
    }
   ],
   "source": [
    "vis = pd.Series(gbc.feature_importances_,index=x.columns)\n",
    "vis.nlargest(20).plot(kind='barh')\n",
    "plt.title(\"feature_importances\")\n",
    "plt.show()"
   ]
  },
  {
   "cell_type": "code",
   "execution_count": 40,
   "id": "945ce037",
   "metadata": {},
   "outputs": [],
   "source": [
    "from sklearn.model_selection import train_test_split\n",
    "x_train,x_test,y_train,y_test = train_test_split(x,y,test_size=0.2,random_state=20)"
   ]
  },
  {
   "cell_type": "code",
   "execution_count": null,
   "id": "1b6e4bce",
   "metadata": {},
   "outputs": [],
   "source": []
  },
  {
   "cell_type": "code",
   "execution_count": null,
   "id": "ea3c0518",
   "metadata": {},
   "outputs": [],
   "source": []
  },
  {
   "cell_type": "code",
   "execution_count": null,
   "id": "d6dfa22e",
   "metadata": {},
   "outputs": [],
   "source": []
  }
 ],
 "metadata": {
  "kernelspec": {
   "display_name": "Python 3 (ipykernel)",
   "language": "python",
   "name": "python3"
  },
  "language_info": {
   "codemirror_mode": {
    "name": "ipython",
    "version": 3
   },
   "file_extension": ".py",
   "mimetype": "text/x-python",
   "name": "python",
   "nbconvert_exporter": "python",
   "pygments_lexer": "ipython3",
   "version": "3.11.7"
  }
 },
 "nbformat": 4,
 "nbformat_minor": 5
}
